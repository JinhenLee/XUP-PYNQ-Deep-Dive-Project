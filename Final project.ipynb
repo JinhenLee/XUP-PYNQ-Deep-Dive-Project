{
 "cells": [
  {
   "cell_type": "markdown",
   "metadata": {},
   "source": [
    "# Xilinx University Programme: PYNQ Deep Dive Lecture Final Project"
   ]
  },
  {
   "cell_type": "markdown",
   "metadata": {},
   "source": [
    "### Importing required librarires and download GPIO overlay"
   ]
  },
  {
   "cell_type": "code",
   "execution_count": 1,
   "metadata": {},
   "outputs": [
    {
     "data": {
      "application/javascript": [
       "\n",
       "require(['notebook/js/codecell'], function(codecell) {\n",
       "  codecell.CodeCell.options_default.highlight_modes[\n",
       "      'magic_text/x-csrc'] = {'reg':[/^%%microblaze/]};\n",
       "  Jupyter.notebook.events.one('kernel_ready.Kernel', function(){\n",
       "      Jupyter.notebook.get_cells().map(function(cell){\n",
       "          if (cell.cell_type == 'code'){ cell.auto_highlight(); } }) ;\n",
       "  });\n",
       "});\n"
      ]
     },
     "metadata": {},
     "output_type": "display_data"
    }
   ],
   "source": [
    "import random\n",
    "import time\n",
    "from pynq import GPIO\n",
    "from pynq import Overlay\n",
    "ps_gpio_design = Overlay(\"./ps_gpio.bit\")"
   ]
  },
  {
   "cell_type": "markdown",
   "metadata": {},
   "source": [
    "### Assigning board peripherals (Buttons, switches and LEDs)"
   ]
  },
  {
   "cell_type": "code",
   "execution_count": 2,
   "metadata": {},
   "outputs": [],
   "source": [
    "#Assigning the buttons to the GPIO pins\n",
    "button0 = GPIO(GPIO.get_gpio_pin(0), 'in')\n",
    "button1 = GPIO(GPIO.get_gpio_pin(1), 'in')\n",
    "button2 = GPIO(GPIO.get_gpio_pin(2), 'in')\n",
    "button3 = GPIO(GPIO.get_gpio_pin(3), 'in')\n",
    "\n",
    "button_ = [button0, button1, button2, button3]"
   ]
  },
  {
   "cell_type": "code",
   "execution_count": 3,
   "metadata": {},
   "outputs": [],
   "source": [
    "#Assigning the switches to the GPIO pins\n",
    "switch0 = GPIO(GPIO.get_gpio_pin(4), 'in')\n",
    "switch1 = GPIO(GPIO.get_gpio_pin(5), 'in')"
   ]
  },
  {
   "cell_type": "code",
   "execution_count": 4,
   "metadata": {},
   "outputs": [],
   "source": [
    "#Assigning the LEDs to the GPIO pins\n",
    "led0 = GPIO(GPIO.get_gpio_pin(6), 'out')\n",
    "led1 = GPIO(GPIO.get_gpio_pin(7), 'out')\n",
    "led2 = GPIO(GPIO.get_gpio_pin(8), 'out')\n",
    "led3 = GPIO(GPIO.get_gpio_pin(9), 'out')\n",
    "\n",
    "led_ = [led0, led1, led2, led3]\n",
    "\n",
    "def on_all():\n",
    "    led0.write(1)\n",
    "    led1.write(1)\n",
    "    led2.write(1)\n",
    "    led3.write(1)\n",
    "    \n",
    "def off_all():\n",
    "    led0.write(0)\n",
    "    led1.write(0)\n",
    "    led2.write(0)\n",
    "    led3.write(0)\n",
    "\n",
    "#Implementation for all LED to flash\n",
    "def flash():\n",
    "    for i in range(5):\n",
    "        on_all()\n",
    "        time.sleep(0.2)\n",
    "        off_all()\n",
    "        time.sleep(0.2)"
   ]
  },
  {
   "cell_type": "markdown",
   "metadata": {},
   "source": [
    "### Whack-a-mole!"
   ]
  },
  {
   "cell_type": "code",
   "execution_count": 5,
   "metadata": {},
   "outputs": [],
   "source": [
    "import random\n",
    "import time\n",
    "\n",
    "switch0_prev_state = switch0.read()\n",
    "\n",
    "#switch1 is 1 to start the game\n",
    "while switch1.read() == 1:\n",
    "    led = random.randint(0, 3)\n",
    "    led_[led].write(1)\n",
    "    time.sleep(0.25)\n",
    "    led_[led].write(0)\n",
    "    \n",
    "    #if the corresponding button is hit, all LEDs will flash together\n",
    "    if button_[led].read() == 1:\n",
    "        flash()\n",
    "    \n",
    "    #Toggle switch0 to reset the LED and pause the game for 5 seconds\n",
    "    if switch0.read() != switch0_prev_state:\n",
    "        switch0_prev_state=switch0.read()\n",
    "        led0.write(0)\n",
    "        led1.write(0)\n",
    "        led2.write(0)\n",
    "        led3.write(0)\n",
    "        time.sleep(5)"
   ]
  },
  {
   "cell_type": "code",
   "execution_count": null,
   "metadata": {},
   "outputs": [],
   "source": []
  }
 ],
 "metadata": {
  "kernelspec": {
   "display_name": "Python 3",
   "language": "python",
   "name": "python3"
  },
  "language_info": {
   "codemirror_mode": {
    "name": "ipython",
    "version": 3
   },
   "file_extension": ".py",
   "mimetype": "text/x-python",
   "name": "python",
   "nbconvert_exporter": "python",
   "pygments_lexer": "ipython3",
   "version": "3.6.5"
  }
 },
 "nbformat": 4,
 "nbformat_minor": 2
}
